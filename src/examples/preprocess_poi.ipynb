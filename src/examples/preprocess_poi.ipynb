{
 "cells": [
  {
   "cell_type": "markdown",
   "id": "bcbd518b",
   "metadata": {},
   "source": [
    "## Preprocessing of POI data\n",
    "This script takes POI data with the columns `amenity, leisure, shop, tourism, geometry` and transforms it into clusters.  "
   ]
  },
  {
   "cell_type": "code",
   "execution_count": 1,
   "id": "28d12854",
   "metadata": {},
   "outputs": [],
   "source": [
    "import geopandas as gpd\n",
    "import pandas as pd\n",
    "import usecase\n",
    "import pathlib\n",
    "import usecase_helpers\n",
    "import utility"
   ]
  },
  {
   "cell_type": "markdown",
   "id": "edbcb6f8",
   "metadata": {},
   "source": [
    "Set file names and import options."
   ]
  },
  {
   "cell_type": "code",
   "execution_count": 3,
   "id": "a238906c",
   "metadata": {},
   "outputs": [],
   "source": [
    "data_dir = pathlib.Pathh(\".\", \"data\")\n",
    "weight_path = pathlib.Path(data_dir, \"poi_weights_combined.csv\")\n",
    "weights = pd.read_csv(weight_path, sep=';', decimal=',', encoding='mbcs')\n",
    "data_path = pathlib.Path(data_dir, \"osm_poi.gpkg\")\n",
    "data = gpd.read_file(data_path)\n",
    "boundaries_path = pathlib.Path(data_dir, \"boundaries.gpkg\")\n",
    "boundaries = gpd.read_file(boundaries_path)\n",
    "weights_dict = utility.weights_to_dict(weights)"
   ]
  },
  {
   "cell_type": "markdown",
   "id": "ce59533a",
   "metadata": {},
   "source": [
    "Filter out unwanted data like not well defined or too big boundaries. This includes full Bundesländer that are not Bremen, Berlin or Hamburg"
   ]
  },
  {
   "cell_type": "code",
   "execution_count": 4,
   "id": "331dae40",
   "metadata": {},
   "outputs": [],
   "source": [
    "bad_ags = [\"--\"]\n",
    "bad_bl = [\"00\", \"01\", \"03\", \"05\", \"06\", \"07\", \"08\", \"09\", \"10\", \"12\", \"13\", \"14\", \"15\", \"16\"]\n",
    "for b in bad_bl:\n",
    "    bad_ags.append(b + \"000000\")\n",
    "b0 = boundaries[\"ags_0\"].isin(bad_ags)\n",
    "boundaries = boundaries.loc[~b0]"
   ]
  },
  {
   "cell_type": "markdown",
   "id": "4f9a6f56",
   "metadata": {},
   "source": [
    "Set clustering options."
   ]
  },
  {
   "cell_type": "code",
   "execution_count": 5,
   "id": "669c3c41",
   "metadata": {},
   "outputs": [],
   "source": [
    "max_radius = 200\n",
    "max_weight = 50\n",
    "increment_radius = 20"
   ]
  },
  {
   "cell_type": "markdown",
   "id": "e0ce90f3",
   "metadata": {},
   "source": [
    "Run preprocessing."
   ]
  },
  {
   "cell_type": "code",
   "execution_count": null,
   "id": "553ba2d1",
   "metadata": {},
   "outputs": [],
   "source": [
    "poi_cluster = usecase_helpers.preprocess_poi(data, boundaries, weights_dict, max_radius, max_weight, increment_radius)"
   ]
  },
  {
   "cell_type": "code",
   "execution_count": 7,
   "id": "6b6ba1d7",
   "metadata": {},
   "outputs": [
    {
     "data": {
      "text/html": [
       "<div>\n",
       "<style scoped>\n",
       "    .dataframe tbody tr th:only-of-type {\n",
       "        vertical-align: middle;\n",
       "    }\n",
       "\n",
       "    .dataframe tbody tr th {\n",
       "        vertical-align: top;\n",
       "    }\n",
       "\n",
       "    .dataframe thead th {\n",
       "        text-align: right;\n",
       "    }\n",
       "</style>\n",
       "<table border=\"1\" class=\"dataframe\">\n",
       "  <thead>\n",
       "    <tr style=\"text-align: right;\">\n",
       "      <th></th>\n",
       "      <th>geometry</th>\n",
       "      <th>potential</th>\n",
       "      <th>radius</th>\n",
       "    </tr>\n",
       "  </thead>\n",
       "  <tbody>\n",
       "    <tr>\n",
       "      <th>0</th>\n",
       "      <td>POINT (4226601.471 3378146.784)</td>\n",
       "      <td>60.0</td>\n",
       "      <td>60</td>\n",
       "    </tr>\n",
       "    <tr>\n",
       "      <th>1</th>\n",
       "      <td>POINT (4242106.413 3333273.481)</td>\n",
       "      <td>100.0</td>\n",
       "      <td>20</td>\n",
       "    </tr>\n",
       "    <tr>\n",
       "      <th>2</th>\n",
       "      <td>POINT (4242267.333 3333185.375)</td>\n",
       "      <td>80.0</td>\n",
       "      <td>20</td>\n",
       "    </tr>\n",
       "    <tr>\n",
       "      <th>3</th>\n",
       "      <td>POINT (4242011.674 3333325.381)</td>\n",
       "      <td>80.0</td>\n",
       "      <td>20</td>\n",
       "    </tr>\n",
       "    <tr>\n",
       "      <th>4</th>\n",
       "      <td>POINT (4242043.058 3333308.155)</td>\n",
       "      <td>80.0</td>\n",
       "      <td>20</td>\n",
       "    </tr>\n",
       "    <tr>\n",
       "      <th>...</th>\n",
       "      <td>...</td>\n",
       "      <td>...</td>\n",
       "      <td>...</td>\n",
       "    </tr>\n",
       "    <tr>\n",
       "      <th>0</th>\n",
       "      <td>POINT (4050702.503 3136461.616)</td>\n",
       "      <td>7.0</td>\n",
       "      <td>200</td>\n",
       "    </tr>\n",
       "    <tr>\n",
       "      <th>0</th>\n",
       "      <td>POINT (4046663.597 3182216.625)</td>\n",
       "      <td>8.5</td>\n",
       "      <td>200</td>\n",
       "    </tr>\n",
       "    <tr>\n",
       "      <th>0</th>\n",
       "      <td>POINT (4280005.961 3523447.665)</td>\n",
       "      <td>8.0</td>\n",
       "      <td>200</td>\n",
       "    </tr>\n",
       "    <tr>\n",
       "      <th>0</th>\n",
       "      <td>POINT (4227191.979 3502270.189)</td>\n",
       "      <td>4.5</td>\n",
       "      <td>200</td>\n",
       "    </tr>\n",
       "    <tr>\n",
       "      <th>0</th>\n",
       "      <td>POINT (4221219.441 3546900.046)</td>\n",
       "      <td>3.5</td>\n",
       "      <td>200</td>\n",
       "    </tr>\n",
       "  </tbody>\n",
       "</table>\n",
       "<p>749397 rows × 3 columns</p>\n",
       "</div>"
      ],
      "text/plain": [
       "                           geometry  potential radius\n",
       "0   POINT (4226601.471 3378146.784)       60.0     60\n",
       "1   POINT (4242106.413 3333273.481)      100.0     20\n",
       "2   POINT (4242267.333 3333185.375)       80.0     20\n",
       "3   POINT (4242011.674 3333325.381)       80.0     20\n",
       "4   POINT (4242043.058 3333308.155)       80.0     20\n",
       "..                              ...        ...    ...\n",
       "0   POINT (4050702.503 3136461.616)        7.0    200\n",
       "0   POINT (4046663.597 3182216.625)        8.5    200\n",
       "0   POINT (4280005.961 3523447.665)        8.0    200\n",
       "0   POINT (4227191.979 3502270.189)        4.5    200\n",
       "0   POINT (4221219.441 3546900.046)        3.5    200\n",
       "\n",
       "[749397 rows x 3 columns]"
      ]
     },
     "execution_count": 7,
     "metadata": {},
     "output_type": "execute_result"
    }
   ],
   "source": [
    "poi_cluster"
   ]
  },
  {
   "cell_type": "code",
   "execution_count": 8,
   "id": "62aaad12",
   "metadata": {},
   "outputs": [
    {
     "data": {
      "text/html": [
       "<div>\n",
       "<style scoped>\n",
       "    .dataframe tbody tr th:only-of-type {\n",
       "        vertical-align: middle;\n",
       "    }\n",
       "\n",
       "    .dataframe tbody tr th {\n",
       "        vertical-align: top;\n",
       "    }\n",
       "\n",
       "    .dataframe thead th {\n",
       "        text-align: right;\n",
       "    }\n",
       "</style>\n",
       "<table border=\"1\" class=\"dataframe\">\n",
       "  <thead>\n",
       "    <tr style=\"text-align: right;\">\n",
       "      <th></th>\n",
       "      <th>geometry</th>\n",
       "      <th>potential</th>\n",
       "      <th>radius</th>\n",
       "    </tr>\n",
       "  </thead>\n",
       "  <tbody>\n",
       "    <tr>\n",
       "      <th>1258</th>\n",
       "      <td>POINT (4292547.218 2822228.951)</td>\n",
       "      <td>72.0</td>\n",
       "      <td>20</td>\n",
       "    </tr>\n",
       "    <tr>\n",
       "      <th>7215</th>\n",
       "      <td>POINT (4556406.052 3269037.058)</td>\n",
       "      <td>60.0</td>\n",
       "      <td>20</td>\n",
       "    </tr>\n",
       "    <tr>\n",
       "      <th>125</th>\n",
       "      <td>POINT (4225391.035 2865199.849)</td>\n",
       "      <td>137.5</td>\n",
       "      <td>20</td>\n",
       "    </tr>\n",
       "    <tr>\n",
       "      <th>2065</th>\n",
       "      <td>POINT (4209768.626 3126665.453)</td>\n",
       "      <td>51.0</td>\n",
       "      <td>20</td>\n",
       "    </tr>\n",
       "    <tr>\n",
       "      <th>7224</th>\n",
       "      <td>POINT (4554827.271 3270345.494)</td>\n",
       "      <td>60.0</td>\n",
       "      <td>20</td>\n",
       "    </tr>\n",
       "    <tr>\n",
       "      <th>...</th>\n",
       "      <td>...</td>\n",
       "      <td>...</td>\n",
       "      <td>...</td>\n",
       "    </tr>\n",
       "    <tr>\n",
       "      <th>966</th>\n",
       "      <td>POINT (4354188.388 3144414.205)</td>\n",
       "      <td>16.0</td>\n",
       "      <td>200</td>\n",
       "    </tr>\n",
       "    <tr>\n",
       "      <th>965</th>\n",
       "      <td>POINT (4345933.018 3146101.165)</td>\n",
       "      <td>22.5</td>\n",
       "      <td>200</td>\n",
       "    </tr>\n",
       "    <tr>\n",
       "      <th>964</th>\n",
       "      <td>POINT (4355344.113 3144424.059)</td>\n",
       "      <td>16.0</td>\n",
       "      <td>200</td>\n",
       "    </tr>\n",
       "    <tr>\n",
       "      <th>978</th>\n",
       "      <td>POINT (4343332.939 3134304.032)</td>\n",
       "      <td>8.0</td>\n",
       "      <td>200</td>\n",
       "    </tr>\n",
       "    <tr>\n",
       "      <th>0</th>\n",
       "      <td>POINT (4221219.441 3546900.046)</td>\n",
       "      <td>3.5</td>\n",
       "      <td>200</td>\n",
       "    </tr>\n",
       "  </tbody>\n",
       "</table>\n",
       "<p>749397 rows × 3 columns</p>\n",
       "</div>"
      ],
      "text/plain": [
       "                             geometry  potential radius\n",
       "1258  POINT (4292547.218 2822228.951)       72.0     20\n",
       "7215  POINT (4556406.052 3269037.058)       60.0     20\n",
       "125   POINT (4225391.035 2865199.849)      137.5     20\n",
       "2065  POINT (4209768.626 3126665.453)       51.0     20\n",
       "7224  POINT (4554827.271 3270345.494)       60.0     20\n",
       "...                               ...        ...    ...\n",
       "966   POINT (4354188.388 3144414.205)       16.0    200\n",
       "965   POINT (4345933.018 3146101.165)       22.5    200\n",
       "964   POINT (4355344.113 3144424.059)       16.0    200\n",
       "978   POINT (4343332.939 3134304.032)        8.0    200\n",
       "0     POINT (4221219.441 3546900.046)        3.5    200\n",
       "\n",
       "[749397 rows x 3 columns]"
      ]
     },
     "execution_count": 8,
     "metadata": {},
     "output_type": "execute_result"
    }
   ],
   "source": [
    "poi_cluster.sort_values(\"radius\")"
   ]
  },
  {
   "cell_type": "code",
   "execution_count": 9,
   "id": "761a4c7b",
   "metadata": {},
   "outputs": [],
   "source": [
    "final_cluster = poi_cluster.sort_values(\"potential\", ascending=False).reset_index()"
   ]
  },
  {
   "cell_type": "code",
   "execution_count": 10,
   "id": "7dfc98e4",
   "metadata": {},
   "outputs": [
    {
     "data": {
      "text/html": [
       "<div>\n",
       "<style scoped>\n",
       "    .dataframe tbody tr th:only-of-type {\n",
       "        vertical-align: middle;\n",
       "    }\n",
       "\n",
       "    .dataframe tbody tr th {\n",
       "        vertical-align: top;\n",
       "    }\n",
       "\n",
       "    .dataframe thead th {\n",
       "        text-align: right;\n",
       "    }\n",
       "</style>\n",
       "<table border=\"1\" class=\"dataframe\">\n",
       "  <thead>\n",
       "    <tr style=\"text-align: right;\">\n",
       "      <th></th>\n",
       "      <th>geometry</th>\n",
       "      <th>potential</th>\n",
       "      <th>radius</th>\n",
       "    </tr>\n",
       "  </thead>\n",
       "  <tbody>\n",
       "    <tr>\n",
       "      <th>0</th>\n",
       "      <td>POINT (4209935.675 2908889.905)</td>\n",
       "      <td>1260.0</td>\n",
       "      <td>20</td>\n",
       "    </tr>\n",
       "    <tr>\n",
       "      <th>1</th>\n",
       "      <td>POINT (4375249.274 3258639.081)</td>\n",
       "      <td>1260.0</td>\n",
       "      <td>20</td>\n",
       "    </tr>\n",
       "    <tr>\n",
       "      <th>2</th>\n",
       "      <td>POINT (4331769.430 3480372.272)</td>\n",
       "      <td>1220.0</td>\n",
       "      <td>20</td>\n",
       "    </tr>\n",
       "    <tr>\n",
       "      <th>3</th>\n",
       "      <td>POINT (4202480.561 2947098.270)</td>\n",
       "      <td>1220.0</td>\n",
       "      <td>20</td>\n",
       "    </tr>\n",
       "    <tr>\n",
       "      <th>4</th>\n",
       "      <td>POINT (4383198.427 2978397.280)</td>\n",
       "      <td>1200.0</td>\n",
       "      <td>20</td>\n",
       "    </tr>\n",
       "    <tr>\n",
       "      <th>...</th>\n",
       "      <td>...</td>\n",
       "      <td>...</td>\n",
       "      <td>...</td>\n",
       "    </tr>\n",
       "    <tr>\n",
       "      <th>749392</th>\n",
       "      <td>POINT (4378035.942 3151998.282)</td>\n",
       "      <td>1.5</td>\n",
       "      <td>200</td>\n",
       "    </tr>\n",
       "    <tr>\n",
       "      <th>749393</th>\n",
       "      <td>POINT (4509431.648 2858466.631)</td>\n",
       "      <td>1.5</td>\n",
       "      <td>200</td>\n",
       "    </tr>\n",
       "    <tr>\n",
       "      <th>749394</th>\n",
       "      <td>POINT (4074002.151 3115557.584)</td>\n",
       "      <td>1.5</td>\n",
       "      <td>200</td>\n",
       "    </tr>\n",
       "    <tr>\n",
       "      <th>749395</th>\n",
       "      <td>POINT (4178000.547 3134067.719)</td>\n",
       "      <td>1.5</td>\n",
       "      <td>200</td>\n",
       "    </tr>\n",
       "    <tr>\n",
       "      <th>749396</th>\n",
       "      <td>POINT (4490955.430 2883479.354)</td>\n",
       "      <td>1.0</td>\n",
       "      <td>200</td>\n",
       "    </tr>\n",
       "  </tbody>\n",
       "</table>\n",
       "<p>749397 rows × 3 columns</p>\n",
       "</div>"
      ],
      "text/plain": [
       "                               geometry  potential radius\n",
       "0       POINT (4209935.675 2908889.905)     1260.0     20\n",
       "1       POINT (4375249.274 3258639.081)     1260.0     20\n",
       "2       POINT (4331769.430 3480372.272)     1220.0     20\n",
       "3       POINT (4202480.561 2947098.270)     1220.0     20\n",
       "4       POINT (4383198.427 2978397.280)     1200.0     20\n",
       "...                                 ...        ...    ...\n",
       "749392  POINT (4378035.942 3151998.282)        1.5    200\n",
       "749393  POINT (4509431.648 2858466.631)        1.5    200\n",
       "749394  POINT (4074002.151 3115557.584)        1.5    200\n",
       "749395  POINT (4178000.547 3134067.719)        1.5    200\n",
       "749396  POINT (4490955.430 2883479.354)        1.0    200\n",
       "\n",
       "[749397 rows x 3 columns]"
      ]
     },
     "execution_count": 10,
     "metadata": {},
     "output_type": "execute_result"
    }
   ],
   "source": [
    "final_cluster = final_cluster[[\"geometry\", \"potential\", \"radius\"]]\n",
    "final_cluster = final_cluster.dropna()\n",
    "final_cluster"
   ]
  },
  {
   "cell_type": "code",
   "execution_count": 11,
   "id": "e2b72f8f",
   "metadata": {},
   "outputs": [
    {
     "data": {
      "text/plain": [
       "geometry     geometry\n",
       "potential     float64\n",
       "radius         object\n",
       "dtype: object"
      ]
     },
     "execution_count": 11,
     "metadata": {},
     "output_type": "execute_result"
    }
   ],
   "source": [
    "poi_cluster.dtypes"
   ]
  },
  {
   "cell_type": "code",
   "execution_count": 12,
   "id": "3261c454",
   "metadata": {},
   "outputs": [],
   "source": [
    "result_path = pathlib.Path(\"data\", \"poi_cluster.gpkg\")\n",
    "final_cluster.to_file(result_path, driver=\"GPKG\")"
   ]
  },
  {
   "cell_type": "code",
   "execution_count": null,
   "id": "072966f6",
   "metadata": {},
   "outputs": [],
   "source": []
  }
 ],
 "metadata": {
  "kernelspec": {
   "display_name": "Python 3 (ipykernel)",
   "language": "python",
   "name": "python3"
  },
  "language_info": {
   "codemirror_mode": {
    "name": "ipython",
    "version": 3
   },
   "file_extension": ".py",
   "mimetype": "text/x-python",
   "name": "python",
   "nbconvert_exporter": "python",
   "pygments_lexer": "ipython3",
   "version": "3.8.8"
  }
 },
 "nbformat": 4,
 "nbformat_minor": 5
}
